{
 "cells": [
  {
   "cell_type": "markdown",
   "metadata": {},
   "source": [
    "# Implementing models"
   ]
  },
  {
   "cell_type": "markdown",
   "metadata": {},
   "source": [
    "## Validation / jump to error\n"
   ]
  },
  {
   "cell_type": "markdown",
   "metadata": {},
   "source": []
  },
  {
   "cell_type": "markdown",
   "metadata": {},
   "source": [
    "## Comparing calculated derivatives with step()\n"
   ]
  },
  {
   "cell_type": "markdown",
   "metadata": {},
   "source": [
    "### Basics: Look at derivatives\n",
    "\n",
    "Catches:\n",
    "- make sure state doesn't have zeros or other \"boring\" numbers\n",
    "- make sure you try several model \"modes\"\n",
    "\n",
    "\n",
    "### Compare against reference output\n",
    "\n",
    "With initial state from file\n",
    "With derivatives from file\n",
    "\n",
    "### Compare against reference model\n",
    "\n",
    "(When modifying a file)\n",
    "\n",
    "```\n",
    "#!/usr/bin/env python3\n",
    "import myokit\n",
    "\n",
    "m1 = myokit.load_model('ni-2017-units.mmt')\n",
    "m2 = myokit.load_model('ni-2017.mmt')\n",
    "\n",
    "state = [0.01 if x == 0 else x for x in m2.state()]\n",
    "\n",
    "print(myokit.step(m1, initial=state, reference=m2))\n",
    "```"
   ]
  },
  {
   "cell_type": "code",
   "execution_count": null,
   "metadata": {},
   "outputs": [],
   "source": []
  },
  {
   "cell_type": "markdown",
   "metadata": {},
   "source": [
    "## Unit checking / jump to error\n"
   ]
  },
  {
   "cell_type": "code",
   "execution_count": null,
   "metadata": {},
   "outputs": [],
   "source": []
  }
 ],
 "metadata": {
  "kernelspec": {
   "display_name": "Python 3",
   "language": "python",
   "name": "python3"
  },
  "language_info": {
   "codemirror_mode": {
    "name": "ipython",
    "version": 3
   },
   "file_extension": ".py",
   "mimetype": "text/x-python",
   "name": "python",
   "nbconvert_exporter": "python",
   "pygments_lexer": "ipython3",
   "version": "3.7.7"
  }
 },
 "nbformat": 4,
 "nbformat_minor": 2
}

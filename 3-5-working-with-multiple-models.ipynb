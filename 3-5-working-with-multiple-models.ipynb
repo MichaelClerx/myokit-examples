{
 "cells": [
  {
   "cell_type": "markdown",
   "metadata": {},
   "source": [
    "# Working with multiple models"
   ]
  },
  {
   "cell_type": "markdown",
   "metadata": {},
   "source": [
    "## Identifying common variables"
   ]
  },
  {
   "cell_type": "markdown",
   "metadata": {},
   "source": [
    "### Labels (and bindings)"
   ]
  },
  {
   "cell_type": "markdown",
   "metadata": {},
   "source": [
    "### Guessing with `lib.guess`\n",
    "\n",
    "https://myokit.readthedocs.io/en/stable/api_library/guess.html\n",
    "\n",
    "`membrane_capacitance`\n",
    "`membrane_currents`\n",
    "`membrane_potential`\n",
    "`stimulus_current`\n",
    "`stimulus_current_info`"
   ]
  },
  {
   "cell_type": "markdown",
   "metadata": {},
   "source": [
    "### Other annotations\n",
    "\n",
    "Link to ticket on using e.g. oxmeta annots? (Not a key, slower lookup!)"
   ]
  },
  {
   "cell_type": "markdown",
   "metadata": {},
   "source": [
    "def find_variable(annotation):\n",
    "    for v in model.variables(deep=True):\n",
    "        if v.meta.get('oxmeta', None) == 'annotation':\n",
    "            return v\n",
    "    raise KeyError('No variable with oxmeta annotation '  + str(annotation) + ' found.')"
   ]
  },
  {
   "cell_type": "markdown",
   "metadata": {},
   "source": [
    "10:34\n",
    "Also there's a convert_unit() method on variable objects\n",
    "10:34\n",
    "And it can take \"helper\" values to convert between e.g. A and A/F"
   ]
  },
  {
   "cell_type": "markdown",
   "metadata": {},
   "source": [
    "Mention steady state?\n",
    "\n",
    "Need some function model.set_state(limit_cycle(model, protocol))"
   ]
  },
  {
   "cell_type": "markdown",
   "metadata": {},
   "source": [
    "## Unit conversion"
   ]
  },
  {
   "cell_type": "markdown",
   "metadata": {},
   "source": [
    "## \"Clamping\" a variable"
   ]
  },
  {
   "cell_type": "markdown",
   "metadata": {},
   "source": [
    "## Importing components"
   ]
  }
 ],
 "metadata": {
  "kernelspec": {
   "display_name": "Python 3",
   "language": "python",
   "name": "python3"
  },
  "language_info": {
   "codemirror_mode": {
    "name": "ipython",
    "version": 3
   },
   "file_extension": ".py",
   "mimetype": "text/x-python",
   "name": "python",
   "nbconvert_exporter": "python",
   "pygments_lexer": "ipython3",
   "version": "3.7.7"
  }
 },
 "nbformat": 4,
 "nbformat_minor": 2
}

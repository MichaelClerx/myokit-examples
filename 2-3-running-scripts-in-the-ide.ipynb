{
 "cells": [
  {
   "cell_type": "markdown",
   "metadata": {},
   "source": [
    "# Running scripts in the IDE"
   ]
  },
  {
   "cell_type": "markdown",
   "metadata": {},
   "source": [
    "This (short) notebook explains how to run scripts in the IDE, and discusses the pros and cons of using Myokit's embedded script feature.\n",
    "\n",
    "Myokit `.mmt` files can contain a Model, Protocol, and/or embedded script.\n",
    "If present, the script is shown on the \"Embedded script\" tab.\n",
    "Scripts must start with the header `[[script]]`, but can then contain any old Python code -- even Python code that doesn't use Myokit or does dangerous things like deleting your favourite files!\n",
    "\n",
    "There are three main differences between using the script tab or using external Python scripts:\n",
    "\n",
    "1. In the script tab, you can access the model and protocol via `get_model()` and `get_protocol()`. In external Python scripts you must use `myokit.load_model()` and `myokit.load_protocol()` (or `myokit.load()`).    \n",
    "\n",
    "2. In the IDE, some feedback on simulation progress is provided via a progress bar. This is not enabled by default in external scripts, although you can still get some feedback by passing in a [ProgressReporter](https://myokit.readthedocs.io/en/stable/api_simulations/LongSimulations.html#myokit.ProgressReporter).\n",
    "   An example simulation run with the [ProgressPrinter](https://myokit.readthedocs.io/en/stable/api_simulations/LongSimulations.html#myokit.ProgressPrinter) reporter is shown below:"
   ]
  },
  {
   "cell_type": "code",
   "execution_count": 2,
   "metadata": {},
   "outputs": [
    {
     "name": "stdout",
     "output_type": "stream",
     "text": [
      "[0.0 minutes] 10.1 % done, estimated 0 seconds remaining\n",
      "[0.0 minutes] 12.4 % done, estimated 0 seconds remaining\n",
      "[0.0 minutes] 21.8 % done, estimated 0 seconds remaining\n",
      "[0.0 minutes] 36.8 % done, estimated 0 seconds remaining\n",
      "[0.0 minutes] 100.0 % done, estimated 0 seconds remaining\n"
     ]
    }
   ],
   "source": [
    "import myokit\n",
    "model, protocol, _ = myokit.load('models/decker-2009.mmt')\n",
    "\n",
    "s = myokit.Simulation(model, protocol)\n",
    "d = s.run(1000, progress=myokit.ProgressPrinter())"
   ]
  },
  {
   "cell_type": "markdown",
   "metadata": {},
   "source": [
    "3. The \"embedded script\" is packaged in a single file with the model and protocol.\n",
    "    \n",
    "This 3d point is an advantage if you want to share your work with colleagues or collaborators: you can send them a single \"batteries included\" file with a model, protocol, and script.\n",
    "Similarly, you can publish your model code with a suitable protocol and a representative simulation embedded in the same file.\n",
    "\n",
    "However, there is a downside to using embedded scripts too, in that they can lead to situations where there are several copies of the same model, potentially with small differences between the model definitions.\n",
    "This has the potential to create unnecessary confusing and/or bookkeeping, and can make it harder to make your work **reproducible**.\n",
    "\n",
    "In general, the following strategy is advised:\n",
    "\n",
    "- Use embedded scripts during development, to play around, and to share early results\n",
    "- Write your final simulation code (to publish alongside your papers) in external Python files, that all load the same model code.\n",
    "\n",
    "Of course, in many cases you will want to modify a model before running a particular simulation.\n",
    "Instead of modifying the model code, this can be done _dynamically_, via Myokit's model API.\n",
    "This is the subject of a [later notebook](https://nbviewer.jupyter.org/github/MichaelClerx/myokit-examples/blob/main/3-3-using-the-model-api.ipynb)."
   ]
  }
 ],
 "metadata": {
  "kernelspec": {
   "display_name": "Python 3",
   "language": "python",
   "name": "python3"
  },
  "language_info": {
   "codemirror_mode": {
    "name": "ipython",
    "version": 3
   },
   "file_extension": ".py",
   "mimetype": "text/x-python",
   "name": "python",
   "nbconvert_exporter": "python",
   "pygments_lexer": "ipython3",
   "version": "3.7.7"
  }
 },
 "nbformat": 4,
 "nbformat_minor": 2
}

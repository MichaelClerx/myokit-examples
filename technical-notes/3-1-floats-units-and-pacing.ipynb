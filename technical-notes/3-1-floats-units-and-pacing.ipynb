{
 "cells": [
  {
   "cell_type": "markdown",
   "metadata": {},
   "source": [
    "# Technical note: Floats, units, and pacing"
   ]
  },
  {
   "cell_type": "markdown",
   "metadata": {},
   "source": [
    "## Equality in floats\n",
    "\n",
    "The floating point representation of (most) real numbers is an approximation of their true value, and when manipulating floats the error in this approximation can build up with each operation.\n",
    "In most cases this is OK, e.g. when solving a (non-chaotic) ODE, but it does lead to complications in a few areas of Myokit.\n",
    "Notably, when comparing if the current simulation time equals a predetermined time set in some pacing protocol, and when comparing if the unit resulting from some calculation equals another unit.\n",
    "\n",
    "Four types of \"equality\" come into play:\n",
    "\n",
    "- `x is y`: variables x and y point to the same value in memory.\n",
    "- `x == y`: variables x and y have the same (binary) floating point representation\n",
    "- `myokit.float.eq(x, y)`: variables x and y have the same value, to \"within floating point precision\" (i.e. the difference between them is what we'd expect after a single floating point operation, e.g. x = 1 but y is a sum of two floats that equals 1.).\n",
    "- `myokit.float.close(x, y, reltol=1e-9, abstol=1e-9)`: variables x and y are equal to within some user-defined (and relatively coarse) tolerance."
   ]
  },
  {
   "cell_type": "markdown",
   "metadata": {},
   "source": [
    "## Implementation in Python and Cm"
   ]
  },
  {
   "cell_type": "markdown",
   "metadata": {},
   "source": [
    "## Use in pacing"
   ]
  },
  {
   "cell_type": "markdown",
   "metadata": {},
   "source": []
  },
  {
   "cell_type": "markdown",
   "metadata": {},
   "source": []
  },
  {
   "cell_type": "markdown",
   "metadata": {},
   "source": [
    "## Use in units"
   ]
  },
  {
   "cell_type": "markdown",
   "metadata": {},
   "source": []
  },
  {
   "cell_type": "markdown",
   "metadata": {},
   "source": []
  }
 ],
 "metadata": {
  "kernelspec": {
   "display_name": "Python 3",
   "language": "python",
   "name": "python3"
  },
  "language_info": {
   "codemirror_mode": {
    "name": "ipython",
    "version": 3
   },
   "file_extension": ".py",
   "mimetype": "text/x-python",
   "name": "python",
   "nbconvert_exporter": "python",
   "pygments_lexer": "ipython3",
   "version": "3.9.10"
  }
 },
 "nbformat": 4,
 "nbformat_minor": 4
}

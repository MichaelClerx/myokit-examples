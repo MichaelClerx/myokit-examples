{
 "cells": [
  {
   "cell_type": "markdown",
   "metadata": {},
   "source": [
    "# Technical note: Logging"
   ]
  },
  {
   "cell_type": "markdown",
   "metadata": {},
   "source": [
    "A Myokit model defines a function\n",
    "\n",
    "\\begin{equation}\n",
    "\\dot{y}(t)=f\\left(y(t),u(t),t, p\\right)\n",
    "\\end{equation}\n",
    "\n",
    "Here $y$ is the system state, $\\dot{y}$ contains the state derivatives and $t$ is the time variable.\n",
    "External inputs to the system are given as $u\\left(t\\right)$.\n",
    "Common entries in $u$ are a dimensionless pacing variable and a diffusion current from neighbouring cells.\n",
    "Parameters, physical constants and other time-invariant values are lumped together in $p$.\n",
    "During the course of a simulation these values will not change, so for the rest of this document we'll simply write\n",
    "\n",
    "\\begin{equation}\n",
    "\\dot{y}=f(y,u,t)\n",
    "\\end{equation}"
   ]
  },
  {
   "cell_type": "markdown",
   "metadata": {},
   "source": [
    "## Intermediate variables and notation\n",
    "\n",
    "For a typical cell model, $f$ is calculated in two parts:\n",
    "\n",
    "1. A number of currents and fluxes are calculated based on the state\n",
    "2. Time-derivatives are calculated based on these _intermediary variables_\n",
    "\n",
    "We can write such as system as:\n",
    "\n",
    "\\begin{align}\n",
    "i(t)       &= f_1(y, u, t) \\\\\n",
    "\\dot{y}(t) &= f_2\\left(i(y, u, t), y, u, t \\right) \\\\\n",
    "           &= f(y,u,t)\n",
    "\\end{align}"
   ]
  },
  {
   "cell_type": "markdown",
   "metadata": {},
   "source": [
    "However, for some models, we have a slightly more complicated case where some of the intermediary variables at time $t$ _depend on some of the time-derivatives at time_ $t$.\n",
    "\n",
    "We can write this more general system by assuming a right-hand-side function $g$, which has two outputs:\n",
    "\n",
    "\\begin{equation}\n",
    "f(t), i(t) = g\\left(y(t),u(t),t, p\\right)\n",
    "\\end{equation}"
   ]
  },
  {
   "cell_type": "markdown",
   "metadata": {},
   "source": [
    "Another notation that is sometimes used is to view $i$ as the result of some separate _output function_ $h$:\n",
    "\n",
    "\\begin{align}\n",
    "\\dot{y}(t) &= f\\left(y(t), u(t), t\\right) \\\\\n",
    "i(t)       &= h\\left(\\dot{y}(t), y(t), u(t), t\\right)\n",
    "\\end{align}\n",
    "\n",
    "This can be useful for mathematical analysis, where the existence of $i$ is a bit of an afterthought.\n",
    "\n",
    "For implementation, we will want to avoid duplicate calculations and prefer a notation where $y$ explicitly depends on $i$.\n",
    "Alternatively, we can view it as a programming issue, and treat $i$ as a _by-product_ of evaluating $f$."
   ]
  },
  {
   "cell_type": "markdown",
   "metadata": {},
   "source": [
    "## Logging simulations\n",
    "\n",
    "At any time $t$, for a known set of parameters $p$, a full and minimal description of the (time-variant parts of the) system can be given as:\n",
    "\n",
    "\\begin{equation}\n",
    "\\left\\langle y\\left(t\\right),u\\left(t\\right),t\\right\\rangle\n",
    "\\end{equation}\n",
    "\n",
    "Any simulation method must be capable of logging these values at any visited time $t$,\n",
    "We'll call logging these 3 _basic logging_.\n",
    "In addition, methods may choose to offer logging of intermediary variables and/or derivatives.\n",
    "Finally, it is often usufull to dissociate logging times from ODE solving times, so that interpolation may be necessary."
   ]
  },
  {
   "cell_type": "markdown",
   "metadata": {},
   "source": [
    "## Order of operations, ideal scenario\n",
    "\n",
    "We consider the case where, at the start of a simulation,\n",
    "\\begin{eqnarray}\n",
    "t & = & t_{min}\\\\\n",
    "u & = & u\\left(t_{min}\\right)\\\\\n",
    "y & = & y\\left(t_{min}\\right)=y_{0}\n",
    "\\end{eqnarray}\n",
    "\n",
    "and nothing else is known.\n",
    "If only basic logging is provided, a log entry for $t_{min}$ can be written at this time.\n",
    "During a simulation, at each step we do three things:\n",
    "\n",
    "1. Call the rhs, thereby obtaining\n",
    "\\begin{eqnarray*}\n",
    "i & = & i\\left(t\\right)\\\\\n",
    "\\dot{y} & = & \\dot{y}\\left(t\\right)\n",
    "\\end{eqnarray*}\n",
    "\n",
    "2. If a log entry should be made at time $t$, now is the time to do it\n",
    "3. Perform the update:\n",
    "   1. Calculate $\\Delta t$\n",
    "   2. Calculate $y\\left(t+\\Delta t\\right)$\n",
    "   3. Calculate $u\\left(t+\\Delta t\\right)$\n",
    "   4. Update the time to $t+\\Delta t$\n"
   ]
  },
  {
   "cell_type": "markdown",
   "metadata": {},
   "source": [
    "## CVODE Simulation\n",
    "\n",
    "In the CVODE based simulation, there is no control over the points $\\left\\langle y\\left(t\\right),t\\right\\rangle$ at which the solver evaluates $f$ when moving to the next position.\n",
    "This has two consequences:"
   ]
  },
  {
   "cell_type": "markdown",
   "metadata": {},
   "source": [
    "### 1. External inputs are not re-calculated\n",
    "\n",
    "When CVODE explores the state space around $\\left\\langle y\\left(t\\right),u\\left(t\\right),t\\right\\rangle $, it can vary $t$ and $y\\left(t\\right)$ but $u\\left(t\\right)$ stays fixed.\n",
    "This is a result of how Myokit calculates these external functions.\n",
    "However, this is acceptable for the following reasons:\n",
    "\n",
    "1. The main entry in $u$ is the discontinuous pacing current (diffusion is not supported in cvode simulations).\n",
    "Whenever the pacing changes, the solver is reset to the exact time of the change and re-initialised in the new situation.\n",
    "2. Other entries in $u$ (system time and number of evaluations) are provided for logging only and should not be used to calculate parts of the RHS!\n"
   ]
  },
  {
   "cell_type": "markdown",
   "metadata": {},
   "source": [
    "\n",
    "### 2. By-products of calling `rhs()` are unreliable\n",
    "\n",
    "Since we don't know where $f$ was last evaluated, we don't know which derivatives and intermediary variables are currently in memory.\n",
    "To perform accurate logging of these values an extra call to the rhs function is needed.\n",
    "This is implemented in Myokit's CVODES sim, resulting in a few extra RHS() calls (if and only if derivatives or intermediary variables are being logged)."
   ]
  },
  {
   "cell_type": "markdown",
   "metadata": {},
   "source": [
    "\n",
    "## OpenCL Simulation\n",
    "\n",
    "The OpenCL simulation mostly uses a fixed step size, but will occasionally make shorter steps to hit a logging point or a change in the pacing signal exactly.\n",
    "\n",
    "To save memory and memory access time, derivatives are calculated in local memory (on the device) and used to update the state immediatly.\n",
    "Thus, after a call to the RHS defined by the kernel we have\n",
    "\n",
    "\\begin{equation}\n",
    "t,u\\left(t\\right),y\\left(t+\\Delta t\\right)\n",
    "\\end{equation}\n",
    "\n",
    "Derivatives are not currently logged in the OpenCL simulation, but intermediary variables can be made available so that we obtain\n",
    "\n",
    "\\begin{equation}\n",
    "t,u\\left(t\\right),y\\left(t+\\Delta t\\right),i\\left(t\\right)\n",
    "\\end{equation}\n",
    "\n",
    "on the device, after each call to the RHS.\n",
    "\n",
    "To implement correct logging, updates in the OpenCL simulations proceed with the following steps:\n",
    "\n",
    "- Check if we need to log at time $t$, store in `need_to_log`\n",
    "- Determine the $\\Delta t$ for the next step\n",
    "- Calculate diffusion at time $t$ on the device\n",
    "- Do we `need_to_log`? Then download the state at time $t$ from the device\n",
    "- Update the states on the device to $t+\\Delta t$ (which updates the intermediary variables on the device to $t$)\n",
    "- Do we `need_to_log`? Then download the intermediary and diffusion variables from the device.\n",
    "  Write state, intermediary and diffusion variables to log.\n",
    "- Update time to $t+dt$\n",
    "- Update pacing signal to $t+dt$"
   ]
  },
  {
   "cell_type": "markdown",
   "metadata": {},
   "source": [
    "## Timing\n",
    "\n",
    "Timing of logging steps is important.\n",
    "There are two conflicting use cases:\n",
    "\n",
    "1. A user runs a single simulation from t0=0 to t1=1000. \n",
    "   Next, a plot is made of these results.\n",
    "   This requires t0=0 and t1=1000 to both be included in the interval.\n",
    "2. A user runs a simulation from t0=0 to t1=1000. \n",
    "   Then a simulation from t0=1000 to t1=2000.\n",
    "   The result should be a log from t=0 to t=2000 without duplicate values.\n",
    "   1. This can be done by passing log1 in as the log argument to the second simulation.\n",
    "   2. This can be done by logging in two separate logs and then joining them\n",
    "\n",
    "For case 1, it would be ideal to always log the initial and final step.\n",
    "For case 2 it would be better to log half-open intervals (so include t0 but not t1).\n",
    "\n",
    "Use case 1 is very common.\n",
    "The most common version of use case 1 is a single cell simulation with variable steps, simulating exactly one beat.\n",
    "This means the step sizes at the end of the log become wide, so that the last step in a 1000ms simulation may be somewhere in the range 800-900ms.\n",
    "\n",
    "However, half-open intervals avoid all problems in use-case 2 (while use case 1 is simply less pretty) and are the defacto standard in computing (for-loops, python ranges, etc.).\n",
    "\n",
    "Decision: Split the cases for variable- and fixed-interval logging.\n",
    "For variable logging, log full intervals except when appending.\n",
    "This is slightly awkward for the situation where logs are appended _outside_ of the simulation, but methods that can deal with variable interval logs can most-likely deal with this too."
   ]
  },
  {
   "cell_type": "markdown",
   "metadata": {},
   "source": [
    "\n",
    "### Logging with variable time-steps\n",
    "\n",
    "When logging with variable time-steps, a log entry is inserted at the following stages:\n",
    "\n",
    "1. At the start of each simulation, unless appending to an existing log.\n",
    "2. After each step, including the last."
   ]
  },
  {
   "cell_type": "markdown",
   "metadata": {},
   "source": [
    "\n",
    "### Logging with fixed intervals\n",
    "\n",
    "When logging with fixed log intervals, a log entry is inserted at the following stages:\n",
    "\n",
    "1. At the start of each simulation.\n",
    "2. \\#TODO"
   ]
  }
 ],
 "metadata": {
  "kernelspec": {
   "display_name": "Python 3",
   "language": "python",
   "name": "python3"
  },
  "language_info": {
   "codemirror_mode": {
    "name": "ipython",
    "version": 3
   },
   "file_extension": ".py",
   "mimetype": "text/x-python",
   "name": "python",
   "nbconvert_exporter": "python",
   "pygments_lexer": "ipython3",
   "version": "3.9.5"
  }
 },
 "nbformat": 4,
 "nbformat_minor": 4
}

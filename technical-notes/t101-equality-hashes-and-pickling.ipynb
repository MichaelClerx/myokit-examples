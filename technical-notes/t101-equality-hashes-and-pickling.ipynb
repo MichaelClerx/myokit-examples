{
 "cells": [
  {
   "cell_type": "markdown",
   "metadata": {},
   "source": [
    "# Technical note: Equality checking, hashing, pickling"
   ]
  },
  {
   "cell_type": "markdown",
   "metadata": {},
   "source": [
    "## Equality vs is\n",
    "\n",
    "`==` checks if two objects \"should be considered equal\", e.g. `myokit.Number(1) == myokit.Number(1)` should return `True`.\n",
    "\n",
    "`is` checks if two variables point to the same object, e.g. `x is x` should return `True`, as should `y = x; x is y`. \n",
    "\n",
    "### id(), and why to just use is\n",
    "\n",
    "- The line `x is y` is equivalent to `id(x) == id(y)`. \n",
    "- An object's id is unique **during its lifetime**. In the standard implementation, the value returned by id(x) is `&x`, the memory address of x.\n",
    "\n",
    "This means that:\n",
    "- If you store an objects id **but not the object**, and then want to check if you're seeing the same object again, you can't use `id(x) == stored_id`.\n",
    "- **However**, in most cases you would simply store the object. As long as you have a reference to the object, its id will stay in use, and so `x is stored_x` will always return the correct answer.\n",
    "\n",
    "### Literals\n",
    "\n",
    "A line like `Number(1) is Number(1)` creates two new objects, each with their own id, and so returns False.\n",
    "It gets a bit more complicated for literals, as Python tends to cache them: a line `1 is 1` retrieves two references to the same object (I think -- there might be further tricky details to make things fast) and so can return True.\n",
    "\n",
    "This seems to hold for low ints and floats, but not for strings and very long integers:\n",
    "```\n",
    ">>> id(1)\n",
    "140111174779120\n",
    ">>> id(1)\n",
    "140111174779120\n",
    ">>> id(1)\n",
    "140111174779120\n",
    "\n",
    ">>> id(-1.234e-5)\n",
    "140111173736976\n",
    ">>> id(-1.234e-5)\n",
    "140111173736976\n",
    ">>> id(-1.234e-5)\n",
    "140111173736976\n",
    "```\n",
    "\n",
    "```\n",
    ">>> id('Hello')\n",
    "140111173489136\n",
    ">>> id('Hello')\n",
    "140111173489328\n",
    ">>> id('Hello')\n",
    "140111173489136\n",
    "```\n",
    "```\n",
    ">>> id(12345678901234567890)\n",
    "140111173472384\n",
    ">>> id(12345678901234567890)\n",
    "140111173473296\n",
    ">>> id(12345678901234567890)\n",
    "140111173472288\n",
    "```"
   ]
  },
  {
   "cell_type": "markdown",
   "metadata": {},
   "source": [
    "## When should Myokit objects be \"considered equal\"\n",
    "\n",
    "The following objects define an `__eq__` method in Myokit:\n",
    "\n",
    "- Units & quantities\n",
    "- Quantity\n",
    "- Expression (Expression, Name, ALL OTHER LHS EXPR?)\n",
    "- Equation\n",
    "- Model\n",
    "- Protocol"
   ]
  },
  {
   "cell_type": "markdown",
   "metadata": {},
   "source": [
    "### Units & quantities\n",
    "\n",
    "\n",
    "\n",
    "\n",
    "\n",
    "Note 1: Quantities might be merged with myokit.Number in [#798](https://github.com/MichaelClerx/myokit/issues/798).\n",
    "\n",
    "Note 2: Units already have a preferred global representation, but might get a per-object one in [#783](https://github.com/MichaelClerx/myokit/issues/783)."
   ]
  },
  {
   "cell_type": "markdown",
   "metadata": {},
   "source": [
    "### Models\n",
    "\n",
    "**At the moment** (2022-02-03), models are considered equal if they are the same object, or if\n",
    "\n",
    "- they have the same set of reserved unames (which are strings, so immutable and easy to compare), and\n",
    "- they have the same set of reserved uname prefixes (strings again), and\n",
    "- the output of their `code()` methods is the same. \n",
    "\n",
    "There are some pros and cons:\n",
    "\n",
    "- **pro** If you load the same model twice, the models are equal\n",
    "- **pro** Once you modify a model, it's no longer equal\n",
    "- **con** The unames are not something many/most users will remember about (pro: but that perhaps means they won't use them?)\n",
    "- **con** Because components and variables don't have a custom `__eq__`, two models that are \"considered equal\" will consists of components and variables that are *not* considered equal. \n",
    "\n",
    "**The final point may hold for expressions too. See below**"
   ]
  },
  {
   "cell_type": "markdown",
   "metadata": {},
   "source": []
  },
  {
   "cell_type": "markdown",
   "metadata": {},
   "source": [
    "## Hashing and equality\n",
    "\n",
    "Sets and dicts in Python are based on hash maps. To make objects useable as keys in a dict or items in a set, they need to implement a *hash function* that returns an **almost unique integer**. Look-ups in a set or dict start with a quick hash-based jump, followed by a \"proper\" check using `==`. As a result, the `__hash__` and `__eq__` methods of user-defined classes have [some restrictions](https://docs.python.org/3/reference/datamodel.html#object.__hash__):\n",
    "\n",
    "**Default implementations use `is`**.\n",
    "By default, `x.__eq__(y)` returns `x == y`, and `hash(x)` returns \"an appropriate value such that x == y implies both that x is y and hash(x) == hash(y)\". So if you leave hash and eq alone, your objects will be hashable, but with an \"is\" condition. In other words, `myokit.Number(1) in {myokit.Number(1)}` will return False because `id(myokit.Number(1)) != id(myokit.Number(1))`.\n",
    "\n",
    "**Overriding eq removes default hash**.\n",
    "If you override `__eq__` but not `__hash__`, Python will automatically set `YourClass.__hash__ = None`, rendering your object unhashable.\n",
    "\n",
    "**Overriding hash? Then do eq too**.\n",
    "If you override `__hash__`, you **must** also provide an appropriate `__eq__` function.\n",
    "\n",
    "**Hashes must be immutable**.\n",
    "The value returned by an object's `__hash__` must stay the same during its lifetime. So in general you should only implement `__hash__` for immutable objects."
   ]
  },
  {
   "cell_type": "markdown",
   "metadata": {},
   "source": [
    "### Hashing in Myokit\n",
    "\n",
    "The following Myokit classes override `__hash__`:\n",
    "\n",
    "- Unit\n",
    "- Quantity\n",
    "- Equation\n",
    "- Expression (the base class)"
   ]
  },
  {
   "cell_type": "markdown",
   "metadata": {},
   "source": [
    "## Tail recursion optimisation\n",
    "\n",
    "Is something that Python doesn't have, that _may_ apply to expressions (although we're usually OK with them being a bit slow-ish, as they are immutable), and can be hacked in with decorators: https://chrispenner.ca/posts/python-tail-recursion\n",
    "\n"
   ]
  },
  {
   "cell_type": "markdown",
   "metadata": {},
   "source": [
    "## Pickling\n",
    "\n",
    "The following objects in Myokit have extra functions related to pickling & unpickling:\n",
    "\n",
    "- Model\n",
    "- Protocol\n",
    "- Simulation\n",
    "- LegacySimulation\n",
    "- **TODO** Expressions?"
   ]
  }
 ],
 "metadata": {
  "kernelspec": {
   "display_name": "Python 3",
   "language": "python",
   "name": "python3"
  },
  "language_info": {
   "codemirror_mode": {
    "name": "ipython",
    "version": 3
   },
   "file_extension": ".py",
   "mimetype": "text/x-python",
   "name": "python",
   "nbconvert_exporter": "python",
   "pygments_lexer": "ipython3",
   "version": "3.10.2"
  }
 },
 "nbformat": 4,
 "nbformat_minor": 4
}

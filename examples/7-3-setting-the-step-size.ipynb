{
 "cells": [
  {
   "cell_type": "markdown",
   "metadata": {},
   "source": [
    "# Setting the step size"
   ]
  },
  {
   "cell_type": "markdown",
   "metadata": {},
   "source": [
    "Fixed step size, 1st order forward Euler method (see e.g. [wikipedia](https://en.wikipedia.org/wiki/Euler_method) or [scholarpedia](http://www.scholarpedia.org/article/Initial_value_problems) or any textbook on numerical methods).\n",
    "\n",
    "Need for user to set step size.\n",
    "\n",
    "Step size affects both _stability_ of the method (will it crash), as well as the _accuracy_ (will it give the right results).\n",
    "Important that these are not the same: unstable is never accurate, but possible to have method that doesn't crash but gives wrong results!\n",
    "Unstable is easy to find: simulation raises error.\n",
    "Accuracy needs to be checked by user"
   ]
  },
  {
   "cell_type": "markdown",
   "metadata": {},
   "source": [
    "## Example: step size too large\n",
    "\n"
   ]
  },
  {
   "cell_type": "markdown",
   "metadata": {},
   "source": [
    "## Convergence analysis\n",
    "\n",
    "Make some measure of performance\n",
    "Graph it versus the step size\n",
    "Make sure you pick a step size where the results have converged\n"
   ]
  },
  {
   "cell_type": "markdown",
   "metadata": {},
   "source": [
    "### Before publication\n",
    "\n",
    "Re-run crucial simulations with smaller step-size as final check"
   ]
  },
  {
   "cell_type": "markdown",
   "metadata": {},
   "source": [
    "## Rush & Larsen's method\n",
    "\n",
    "In 1978, Rush & Larsen published a short paper called [A Practical Algorithm for Solving Dynamic Membrane Equations](https://doi.org/10.1109/TBME.1978.326270), in which they describe an ODE solving technique that exploits the form of Hodgkin-Huxley gating equations, and has become known as \"the Rush-Larsen method\".\n",
    "\n",
    "Point out that it is _more stable_, so can use bigger step size, but can be _less accurate_, so use with care!"
   ]
  },
  {
   "cell_type": "markdown",
   "metadata": {},
   "source": [
    "### How does this work?\n",
    "\n",
    "Refer to notebook about lib.hh\n",
    "Explain it won't work for all states, only ones it recognises as HH states\n",
    "Give code to show which ones it recognises"
   ]
  },
  {
   "cell_type": "markdown",
   "metadata": {},
   "source": [
    "## Bigger & better\n",
    "\n",
    "_Very_ brief mention of idea to do it automatically in Myokit.\n",
    "Link to relevant issues / PRs if possible.\n",
    "\n",
    "Then link to proper tissue solvers e.g. Chaste."
   ]
  }
 ],
 "metadata": {
  "kernelspec": {
   "display_name": "Python 3",
   "language": "python",
   "name": "python3"
  },
  "language_info": {
   "codemirror_mode": {
    "name": "ipython",
    "version": 3
   },
   "file_extension": ".py",
   "mimetype": "text/x-python",
   "name": "python",
   "nbconvert_exporter": "python",
   "pygments_lexer": "ipython3",
   "version": "3.9.7"
  }
 },
 "nbformat": 4,
 "nbformat_minor": 2
}

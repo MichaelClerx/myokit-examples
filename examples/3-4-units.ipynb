{
 "cells": [
  {
   "cell_type": "markdown",
   "metadata": {},
   "source": [
    "# Units"
   ]
  },
  {
   "cell_type": "markdown",
   "metadata": {},
   "source": [
    "    - [ ] Unit objects\n",
    "    - [ ] Predefined units\n",
    "    - [ ] Quantities\n",
    "    - [ ] Unit conversion"
   ]
  },
  {
   "cell_type": "markdown",
   "metadata": {},
   "source": []
  },
  {
   "cell_type": "code",
   "execution_count": null,
   "metadata": {},
   "outputs": [],
   "source": []
  },
  {
   "cell_type": "markdown",
   "metadata": {},
   "source": [
    "Explain that\n",
    "\n",
    "dot(x) = 4 [mV/ms]\n",
    "    in [mV]\n",
    "\n",
    "is correct: the \"in\" is for \"x\", not for \"dot(x)\""
   ]
  },
  {
   "cell_type": "code",
   "execution_count": null,
   "metadata": {},
   "outputs": [],
   "source": []
  },
  {
   "cell_type": "code",
   "execution_count": null,
   "metadata": {},
   "outputs": [],
   "source": []
  },
  {
   "cell_type": "code",
   "execution_count": 3,
   "metadata": {},
   "outputs": [],
   "source": [
    "import myokit"
   ]
  },
  {
   "cell_type": "markdown",
   "metadata": {},
   "source": [
    "$\\frac{d}{dt}[Ca^{2+}]_\\text{SS} = \\frac{J_\\text{bulk,SS} - J_\\text{SR,SS}}{V_\\text{SS}}\n",
    "\n",
    "from Colman 2013\n",
    "\n",
    "we know $[Ca^{2+}]_\\text{SS}$ is in units $mM$,\n",
    "$t$ is in units $ms$,\n",
    "and $V_\\text{SS}$ is in units ${\\mu m}^3$.\n",
    "\n",
    "We want to work out the units for the $J$ terms.\n",
    "\n",
    "For J's unit $x$, we know:\n",
    "\n",
    "$\\frac{mM}{ms} = \\frac{x}{\\mu m}^3$\n",
    "\n",
    "so that\n",
    "\n",
    "$x = \\frac{mM}{ms} {\\mu m}^3$\n",
    "\n",
    "Myokit can help check our workings:"
   ]
  },
  {
   "cell_type": "code",
   "execution_count": 4,
   "metadata": {},
   "outputs": [
    {
     "name": "stdout",
     "output_type": "stream",
     "text": [
      "[mM]\n"
     ]
    }
   ],
   "source": [
    "mM = myokit.parse_unit('mM')\n",
    "print(mM)"
   ]
  },
  {
   "cell_type": "code",
   "execution_count": 5,
   "metadata": {},
   "outputs": [],
   "source": [
    "ms = myokit.parse_unit('ms')\n",
    "um3 = myokit.parse_unit('um^3')"
   ]
  },
  {
   "cell_type": "markdown",
   "metadata": {},
   "source": [
    "\n",
    "And show off quality of error messages:\n",
    "\n",
    "[18:21:06] Incompatible units on line 75: Exponent in Power must be dimensionless.\n",
    "Encountered when evaluating\n",
    "  1 + 2 + 3 ^ 3 [mV]\n",
    "          ~~~~~~~~~~"
   ]
  },
  {
   "cell_type": "markdown",
   "metadata": {},
   "source": [
    "Basic unit conversion\n",
    "\n"
   ]
  },
  {
   "cell_type": "code",
   "execution_count": 6,
   "metadata": {},
   "outputs": [
    {
     "name": "stdout",
     "output_type": "stream",
     "text": [
      "500.0 [cm]\n"
     ]
    }
   ],
   "source": [
    "x = myokit.Quantity(5, myokit.units.m)\n",
    "print(x.convert(myokit.units.cm))\n",
    "\n"
   ]
  },
  {
   "cell_type": "markdown",
   "metadata": {},
   "source": [
    "Harder ones"
   ]
  },
  {
   "cell_type": "code",
   "execution_count": 7,
   "metadata": {},
   "outputs": [
    {
     "name": "stdout",
     "output_type": "stream",
     "text": [
      "12.3 [um^3]\n"
     ]
    }
   ],
   "source": [
    "\n",
    "x = myokit.Quantity('1.23e-5 [nL]')\n",
    "print(x.convert(myokit.parse_unit('um^3')))"
   ]
  },
  {
   "cell_type": "code",
   "execution_count": null,
   "metadata": {},
   "outputs": [],
   "source": []
  },
  {
   "cell_type": "code",
   "execution_count": null,
   "metadata": {},
   "outputs": [],
   "source": []
  }
 ],
 "metadata": {
  "kernelspec": {
   "display_name": "Python 3",
   "language": "python",
   "name": "python3"
  },
  "language_info": {
   "codemirror_mode": {
    "name": "ipython",
    "version": 3
   },
   "file_extension": ".py",
   "mimetype": "text/x-python",
   "name": "python",
   "nbconvert_exporter": "python",
   "pygments_lexer": "ipython3",
   "version": "3.7.7"
  }
 },
 "nbformat": 4,
 "nbformat_minor": 2
}

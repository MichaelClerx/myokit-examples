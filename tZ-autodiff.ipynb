{
 "cells": [
  {
   "cell_type": "markdown",
   "metadata": {},
   "source": [
    "# Technical note: automatic differentiation"
   ]
  },
  {
   "cell_type": "markdown",
   "metadata": {},
   "source": [
    "**This is an older document, describing autodiff functionality that will probably be deprecated soon**"
   ]
  },
  {
   "cell_type": "markdown",
   "metadata": {},
   "source": [
    "Some Myokit functions use a special `Differential` data type to numerically evaluate (partial) derivatives.\n",
    "These are described below.\n"
   ]
  },
  {
   "cell_type": "markdown",
   "metadata": {},
   "source": [
    "## JacobianGenerator"
   ]
  },
  {
   "cell_type": "markdown",
   "metadata": {},
   "source": [
    "We start from a system\n",
    "\n",
    "\\begin{equation}\n",
    "\\dot{y}\\left(t\\right)=f\\left(y\\left(t\\right),u\\left(t\\right),t|p\\right)\n",
    "\\end{equation}\n",
    "\n",
    "For the remainder of this section, we assume $p$ is uninteresting and drop it from the notation.\n",
    "The JacobianGenerator class starts from a log containing log entries that contain the basic info\n",
    "\n",
    "\\begin{equation}\n",
    "\\left\\langle y\\left(t\\right),u\\left(t\\right),t\\right\\rangle\n",
    "\\end{equation}\n",
    "\n",
    "for each logged point.\n",
    "Next, it revisits each point and makes a call to the RHS function.\n",
    "However, instead of running it with floats or doubles, it uses a specialised datatype called `Differential`.\n",
    "This data type contains both a scalar value and a list of partial derivatives.\n",
    "All operations are overloaded so that a calculation\n",
    "\n",
    "\\begin{equation}\n",
    "x\\left(s\\right)=a\\left(s\\right)\\cdot b\\left(s\\right)\n",
    "\\end{equation}\n",
    "\n",
    "is augmented with an operation\n",
    "\n",
    "\\begin{equation}\n",
    "\\frac{\\partial x}{\\partial s}=\\frac{\\partial a}{\\partial s}b+\\frac{\\partial b}{\\partial s}a\n",
    "\\end{equation}\n",
    "\n",
    "for each partial derivative with respect to $s$ stored in the `Differential` type.\n",
    "This allows a derivative to be calculated numerically from the same equations used to calculate the original value.\n",
    "\n",
    "In the `JacobianGenerator`, each `Differential` is defined to contain $n_{state}$ partial derivatives. \n",
    "Before each call to the RHS, each state variable $y_{i}$ is initialised to contain $n_{state}-1$ zeros, and a single $1$ at position $i$ (because $\\frac{\\partial y_{i}}{\\partial y_{i}}=1$).\n",
    "All constants are introduced as differentials with $n_{state}$ zeros and intermediary variables obtain their partial derivatives from the states they interact with. \n",
    "After a call to the RHS function, the calculated derivatives are returned as `Differential` objects containing a pair\n",
    "$\\left\\langle f_{i},\\frac{\\partial f_{i}}{\\partial y_{j}}\\right\\rangle $.\n",
    "Combining the partial derivatives stored in every returned derivative variable, we obtain the full Jacobian matrix for time $t$.\n"
   ]
  },
  {
   "cell_type": "markdown",
   "metadata": {},
   "source": [
    "### Interpreation\n",
    "\n",
    "TODO: Eigenvalues, dominant eigenvalue\n"
   ]
  },
  {
   "cell_type": "markdown",
   "metadata": {},
   "source": [
    "\n",
    "## ICSimulation\n",
    "\n",
    "The ICSimulation uses the same technique as the JacobianGenerator, but with two crucial differences:\n",
    "\n",
    "1. At the very start of the simulation, all states are initialised with $n_{state}-1$ zeros, and a single $1$ at position $i$.\n",
    "   For each subsequent call to the RHS function, the previous state $y$ is used without reinitializing.\n",
    "- The state variables are integrated at each step, leading not only to the value of $y$ at each time $t$, but also the partial derivatives of $y$ with respect to $y\\left(t=t_{min}\\right)$."
   ]
  },
  {
   "cell_type": "markdown",
   "metadata": {},
   "source": [
    "### Interpretation\n",
    "\n",
    "To interpret these results, it's useful to introduce the _flow function:_\n",
    "\n",
    "\\begin{equation}\n",
    "\\phi\\left(y_{0},t\\right)\\rightarrow y\\left(t\\right)\n",
    "\\end{equation}\n",
    "\n",
    "For any initial position $y_{0}$ and interval $t$ this function gives us the value of $y$ after $t$ time units.\n",
    "In effect, an ODE simulation is a technique to evaluate $\\phi$ for a given $y_{0}$ and $t$.\n",
    "\n",
    "With this definition, we can easily write down what the `ICSimulation` does:\n",
    "For any pair $\\left\\langle y_{0},t\\right\\rangle $ it returns a pair $\\left\\langle y(t),\\left.\\frac{\\partial y}{\\partial y_{o}}\\right|_{t}\\right\\rangle $."
   ]
  },
  {
   "cell_type": "markdown",
   "metadata": {},
   "source": [
    "TODO: Eigenvalues, dominant eigenvalue"
   ]
  },
  {
   "cell_type": "markdown",
   "metadata": {},
   "source": [
    "## PSimulation\n"
   ]
  },
  {
   "cell_type": "markdown",
   "metadata": {},
   "source": [
    "See Dickinson and Gelinas, 1975, Sensitivity analysis of ordinary differential equation systems -- a direct method.\n",
    "\n",
    "Initially, $y$ and $p$ are scalars:\n",
    "\n",
    "\\begin{align}\n",
    "\\frac{dy}{dt} &= f(y(t, p), t, p) \\\\\n",
    "y(t = t_0)    &= y_0(p)\n",
    "\\end{align}\n",
    "\n",
    "Sensitivity\n",
    "\n",
    "\\begin{align}\n",
    "s = \\frac{\\partial y}{\\partial p}\n",
    "\\end{align}\n",
    "\n",
    "Now look at the time-derivative of $s$:\n",
    "\n",
    "\\begin{align}\n",
    "\\frac{d}{d t} (s)\n",
    "    = \\frac{d}{d t} \\left( \\frac{\\partial}{\\partial p} y \\right)\n",
    "    = \\frac{\\partial}{\\partial p} \\left( \\frac{d y}{d t} \\right)\n",
    "\\end{align}\n",
    "or\n",
    "\\begin{align}\n",
    "\\frac{d s}{d t} = \\frac{\\partial}{\\partial p} f(y(t, p), t, p)\n",
    "\\end{align}\n",
    "\n",
    "Here $f$ is a function of $p$ in two ways: via $y(t, p)$ and via $p$, so we need to treat both as functions of $p$ and use the chain rule for multivariate functions:\n",
    "\n",
    "\\begin{align}\n",
    "\\frac{\\partial}{\\partial p} f(y(t, p), t, p) &=\n",
    "    \\frac{\\partial f}{\\partial y}\\frac{\\partial y}{\\partial p}\n",
    "    + \\frac{\\partial f}{\\partial p}\\frac{\\partial p}{\\partial p} \\\\\n",
    "&= \\frac{\\partial f}{\\partial p} + \\frac{\\partial f}{\\partial y}\\frac{\\partial y}{\\partial p} \\\\\n",
    "&= \\frac{\\partial f}{\\partial p} + \\frac{\\partial f}{\\partial y} s\n",
    "\\end{align}\n",
    "\n",
    "For a vector $y$, we have to add a term for each of $y$'s components.\n",
    "\n",
    "Let\n",
    "\\begin{align}\n",
    "\\frac{dy_i}{dt} &= f_i(y_1, y_2, ..., y_n, t, p), \\qquad i = 1,...,n \\\\\n",
    "s_i &= \\frac{\\partial y_i}{\\partial p}\n",
    "\\end{align}\n",
    "then\n",
    "\\begin{align}\n",
    "\\frac{\\partial}{\\partial p} f(y(t, p), t, p)\n",
    "    = \\frac{\\partial f}{\\partial p} + \\sum_{j=1}^n \\frac{\\partial f_i}{\\partial y_j} s_j\n",
    "\\end{align}"
   ]
  },
  {
   "cell_type": "markdown",
   "metadata": {},
   "source": [
    "Myokit's `PSimulation` uses forward Euler to approximate $y$, based on $f$.\n",
    "But instead of using doubles, it uses a `Differential` type, which uses automatic differentiation to calculate selected derivatives while it does so.\n",
    "\n",
    "Lets say we investigate a single parameter $p$, then every state will be represented internally as\n",
    "\\begin{align}\n",
    "\\left( y[t], \\frac{dy[t]}{dp} \\right)\n",
    "\\end{align}\n",
    "while a current will be\n",
    "\\begin{align}\n",
    "\\left( I[t], \\frac{dI[t]}{dp} \\right)\n",
    "\\end{align}\n",
    "and the parameter itself:\n",
    "\\begin{align}\n",
    "\\left( p, \\frac{dp}{dp} \\right) = \\left( p, 1 \\right)\n",
    "\\end{align}\n",
    "\n",
    "At the start of the simulation we set all derivative components to 0, except for those of the parameters.\n",
    "Next, we perform a single RHS evaluation, to obtain\n",
    "\\begin{align}\n",
    "\\left( f[0], \\frac{df[0]}{dp} \\right)\n",
    "\\end{align}\n",
    "(at this point, the 1 from $dp/dp$ will have propagated into $df[0]/dp$).\n",
    "\n",
    "Note that we know have $\\frac{df}{dp}$, not $\\frac{\\partial f}{\\partial p}$, which is different (see above).\n",
    "We use Euler to integrate, and obtain\n",
    "\\begin{align}\n",
    "\\left( y[0], \\frac{dy[0]}{dp} \\right)\n",
    "\\end{align}\n",
    "And then we can continue this to find $dy/dp$ at any point in time.\n",
    "\n",
    "(However, it's possible that the errors from each step add up)"
   ]
  }
 ],
 "metadata": {
  "kernelspec": {
   "display_name": "Python 3",
   "language": "python",
   "name": "python3"
  },
  "language_info": {
   "codemirror_mode": {
    "name": "ipython",
    "version": 3
   },
   "file_extension": ".py",
   "mimetype": "text/x-python",
   "name": "python",
   "nbconvert_exporter": "python",
   "pygments_lexer": "ipython3",
   "version": "3.9.5"
  }
 },
 "nbformat": 4,
 "nbformat_minor": 4
}
